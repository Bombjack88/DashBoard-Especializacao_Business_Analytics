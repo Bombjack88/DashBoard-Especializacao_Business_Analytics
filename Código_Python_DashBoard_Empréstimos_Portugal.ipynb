{
 "cells": [
  {
   "cell_type": "markdown",
   "metadata": {},
   "source": [
    "# Retirar informação do BPSTAT - Utilizando API"
   ]
  },
  {
   "cell_type": "code",
   "execution_count": 1,
   "metadata": {},
   "outputs": [],
   "source": [
    "import pandas as pd"
   ]
  },
  {
   "cell_type": "markdown",
   "metadata": {},
   "source": [
    "## Retirar o Valor das Séries do BPSTAT - teste efetuado para o conjunto series_1 <p>(total de 100 séries)</p>"
   ]
  },
  {
   "cell_type": "code",
   "execution_count": 2,
   "metadata": {},
   "outputs": [],
   "source": [
    "series_1=\"12527177,12527593,\t12528981,\t12528982,\t12528983,\t12528984,\t12528985,\t12529009,\t12529013,\t12529030,\t12529042,\t12529046,\t12529050,\t12556757,\t12529005,\t12528973,\t12525804,\t12526144,\t12528652,\t12529089,\t12526148,\t12526183,\t12530228,\t12530235,\t12530246,\t12526179,\t12530080,\t12530201,\t12526159,\t12530130,\t12530140,\t12530181,\t12530173,\t12530165,\t12529974,\t12529981,\t12530123,\t12530066,\t12530098,\t12530077,\t12530091,\t12529959,\t12530062,\t12530044,\t12530029,\t12528986,\t12528987,\t12528988,\t12529073,\t12529074,\t12529076,\t12529077,\t12529078,\t12529079,\t12529080,\t12529081,\t12529082,\t12529083,\t12529084,\t12529085,\t12529086,\t12529087,\t12529088,\t12529090,\t12529091,\t12529092,\t12529093,\t12529094,\t12529095,\t12529096,\t12528830,\t12529097,\t12529098,\t12556550,\t12556568,\t12556586,\t12556616,\t12556633,\t12556673,\t12556723,\t12557378,\t12557382,\t12556761,\t12556758,\t12556759,\t12556760,\t12557379,\t12557380,\t12557381,\t12556699,\t12557793,\t12557795,\t12557805,\t12556691,\t12557777,\t12557782,\t12556684,\t12556647,\t12556631,\t12556636\"\n",
    "series_2=\"12556667,12556675,\t12556659,\t12556662,\t12556646,\t12556622,\t12556580,\t12556613,\t12556579,\t12556600,\t12556597,\t12556571,\t12556564,\t12556547,\t12528752,\t12528753,\t12528755,\t12528756,\t12528757,\t12528758,\t12528759,\t12528760,\t12528761,\t12528762,\t12528763,\t12528764,\t12528765,\t12528766,\t12528767,\t12528769,\t12528770,\t12528771,\t12528772,\t12528773,\t12528774,\t12528775,\t12526109,\t12528776,\t12528777,\t12528741,\t12528742,\t12528743,\t12528642,\t12528768,\t12529352,\t12530219,\t12530224,\t12530232,\t12530240,\t12530205,\t12530210,\t12530198,\t12530144,\t12530128,\t12530135,\t12530184,\t12530176,\t12530168,\t12530160,\t12530153,\t12530120,\t12530011,\t12530096,\t12530079,\t12530088,\t12530083,\t12530058,\t12530046,\t12530031,\t12556690,\t12557787,\t12557796,\t12557802,\t12556692,\t12557775,\t12557784,\t12556685,\t12556649,\t12556630,\t12556638,\t12556677,\t12556665,\t12556660,\t12556655,\t12556651,\t12556624,\t12556578,\t12556608,\t12556584,\t12556601,\t12556593,\t12556590,\t12556565,\t12556548,\t12556697,\t12557791,\t12557798,\t12557803,\t12556694,\t12557776\"\n",
    "series_3=\"12557789,12556687,\t12556644,\t12556634,\t12556641,\t12556679,\t12556670,\t12556671,\t12556656,\t12556653,\t12556625,\t12556589,\t12556610,\t12556585,\t12556602,\t12556599,\t12556591,\t12556569,\t12556551\"\n"
   ]
  },
  {
   "cell_type": "code",
   "execution_count": 3,
   "metadata": {},
   "outputs": [],
   "source": [
    "series_1=series_1.replace(\"\t\",\"\")\n",
    "series_2=series_2.replace(\"\t\",\"\")\n",
    "series_3=series_3.replace(\"\t\",\"\")\n"
   ]
  },
  {
   "cell_type": "code",
   "execution_count": 4,
   "metadata": {},
   "outputs": [],
   "source": [
    "#print(series_1)\n",
    "#print(series_2)\n",
    "#print(series_3)"
   ]
  },
  {
   "cell_type": "code",
   "execution_count": 5,
   "metadata": {},
   "outputs": [],
   "source": [
    "url=f'https://bpstat.bportugal.pt/api/observations/csv/?series_ids={series_1}&language=PT'"
   ]
  },
  {
   "cell_type": "code",
   "execution_count": 6,
   "metadata": {},
   "outputs": [
    {
     "name": "stdout",
     "output_type": "stream",
     "text": [
      "https://bpstat.bportugal.pt/api/observations/csv/?series_ids=12527177,12527593,12528981,12528982,12528983,12528984,12528985,12529009,12529013,12529030,12529042,12529046,12529050,12556757,12529005,12528973,12525804,12526144,12528652,12529089,12526148,12526183,12530228,12530235,12530246,12526179,12530080,12530201,12526159,12530130,12530140,12530181,12530173,12530165,12529974,12529981,12530123,12530066,12530098,12530077,12530091,12529959,12530062,12530044,12530029,12528986,12528987,12528988,12529073,12529074,12529076,12529077,12529078,12529079,12529080,12529081,12529082,12529083,12529084,12529085,12529086,12529087,12529088,12529090,12529091,12529092,12529093,12529094,12529095,12529096,12528830,12529097,12529098,12556550,12556568,12556586,12556616,12556633,12556673,12556723,12557378,12557382,12556761,12556758,12556759,12556760,12557379,12557380,12557381,12556699,12557793,12557795,12557805,12556691,12557777,12557782,12556684,12556647,12556631,12556636&language=PT\n"
     ]
    }
   ],
   "source": [
    "print(url)"
   ]
  },
  {
   "cell_type": "code",
   "execution_count": 7,
   "metadata": {},
   "outputs": [
    {
     "data": {
      "text/html": [
       "<div>\n",
       "<style scoped>\n",
       "    .dataframe tbody tr th:only-of-type {\n",
       "        vertical-align: middle;\n",
       "    }\n",
       "\n",
       "    .dataframe tbody tr th {\n",
       "        vertical-align: top;\n",
       "    }\n",
       "\n",
       "    .dataframe thead th {\n",
       "        text-align: right;\n",
       "    }\n",
       "</style>\n",
       "<table border=\"1\" class=\"dataframe\">\n",
       "  <thead>\n",
       "    <tr style=\"text-align: right;\">\n",
       "      <th></th>\n",
       "      <th># Série</th>\n",
       "      <th>Designação da série (PT)</th>\n",
       "      <th>Métrica</th>\n",
       "      <th>Unidade de Medida</th>\n",
       "      <th>Valor</th>\n",
       "      <th>Estado</th>\n",
       "    </tr>\n",
       "    <tr>\n",
       "      <th>Periodo</th>\n",
       "      <th></th>\n",
       "      <th></th>\n",
       "      <th></th>\n",
       "      <th></th>\n",
       "      <th></th>\n",
       "      <th></th>\n",
       "    </tr>\n",
       "  </thead>\n",
       "  <tbody>\n",
       "    <tr>\n",
       "      <th>2009-01-31</th>\n",
       "      <td>12525804</td>\n",
       "      <td>Empréstimos-SNF-Pequenas-M (OIFM)</td>\n",
       "      <td>Valor em fim do período</td>\n",
       "      <td>Milhões de euros</td>\n",
       "      <td>27517.5</td>\n",
       "      <td>NaN</td>\n",
       "    </tr>\n",
       "    <tr>\n",
       "      <th>2009-02-28</th>\n",
       "      <td>12525804</td>\n",
       "      <td>Empréstimos-SNF-Pequenas-M (OIFM)</td>\n",
       "      <td>Valor em fim do período</td>\n",
       "      <td>Milhões de euros</td>\n",
       "      <td>27810.3</td>\n",
       "      <td>NaN</td>\n",
       "    </tr>\n",
       "    <tr>\n",
       "      <th>2009-03-31</th>\n",
       "      <td>12525804</td>\n",
       "      <td>Empréstimos-SNF-Pequenas-M (OIFM)</td>\n",
       "      <td>Valor em fim do período</td>\n",
       "      <td>Milhões de euros</td>\n",
       "      <td>27824.0</td>\n",
       "      <td>NaN</td>\n",
       "    </tr>\n",
       "    <tr>\n",
       "      <th>2009-04-30</th>\n",
       "      <td>12525804</td>\n",
       "      <td>Empréstimos-SNF-Pequenas-M (OIFM)</td>\n",
       "      <td>Valor em fim do período</td>\n",
       "      <td>Milhões de euros</td>\n",
       "      <td>27824.4</td>\n",
       "      <td>NaN</td>\n",
       "    </tr>\n",
       "    <tr>\n",
       "      <th>2009-05-31</th>\n",
       "      <td>12525804</td>\n",
       "      <td>Empréstimos-SNF-Pequenas-M (OIFM)</td>\n",
       "      <td>Valor em fim do período</td>\n",
       "      <td>Milhões de euros</td>\n",
       "      <td>28031.1</td>\n",
       "      <td>NaN</td>\n",
       "    </tr>\n",
       "  </tbody>\n",
       "</table>\n",
       "</div>"
      ],
      "text/plain": [
       "             # Série            Designação da série (PT)  \\\n",
       "Periodo                                                    \n",
       "2009-01-31  12525804  Empréstimos-SNF-Pequenas-M (OIFM)   \n",
       "2009-02-28  12525804  Empréstimos-SNF-Pequenas-M (OIFM)   \n",
       "2009-03-31  12525804  Empréstimos-SNF-Pequenas-M (OIFM)   \n",
       "2009-04-30  12525804  Empréstimos-SNF-Pequenas-M (OIFM)   \n",
       "2009-05-31  12525804  Empréstimos-SNF-Pequenas-M (OIFM)   \n",
       "\n",
       "                            Métrica Unidade de Medida    Valor  Estado  \n",
       "Periodo                                                                 \n",
       "2009-01-31  Valor em fim do período  Milhões de euros  27517.5     NaN  \n",
       "2009-02-28  Valor em fim do período  Milhões de euros  27810.3     NaN  \n",
       "2009-03-31  Valor em fim do período  Milhões de euros  27824.0     NaN  \n",
       "2009-04-30  Valor em fim do período  Milhões de euros  27824.4     NaN  \n",
       "2009-05-31  Valor em fim do período  Milhões de euros  28031.1     NaN  "
      ]
     },
     "execution_count": 7,
     "metadata": {},
     "output_type": "execute_result"
    }
   ],
   "source": [
    "df_BPSTAT = pd.read_csv(url,header=0, index_col=\"Período de referência\",  encoding=\"ISO-8859-1\", sep=';')  \n",
    "df_BPSTAT.index = pd.to_datetime(df_BPSTAT.index, format='%Y-%m')\n",
    "df_BPSTAT.index.names = ['Periodo']\n",
    "df_BPSTAT.head()"
   ]
  },
  {
   "cell_type": "code",
   "execution_count": 8,
   "metadata": {},
   "outputs": [
    {
     "data": {
      "text/plain": [
       "Index(['# Série', 'Designação da série (PT)', 'Métrica', 'Unidade de Medida',\n",
       "       'Valor', 'Estado'],\n",
       "      dtype='object')"
      ]
     },
     "execution_count": 8,
     "metadata": {},
     "output_type": "execute_result"
    }
   ],
   "source": [
    "df_BPSTAT.columns"
   ]
  },
  {
   "cell_type": "code",
   "execution_count": 9,
   "metadata": {},
   "outputs": [],
   "source": [
    "df_BPSTAT['Serie']=df_BPSTAT['# Série']\n",
    "df_BPSTAT['Designa_serie']=df_BPSTAT['Designação da série (PT)']\n",
    "df_BPSTAT=df_BPSTAT[['Serie','Valor']]"
   ]
  },
  {
   "cell_type": "code",
   "execution_count": 10,
   "metadata": {},
   "outputs": [
    {
     "data": {
      "text/plain": [
       "Index(['Serie', 'Valor'], dtype='object')"
      ]
     },
     "execution_count": 10,
     "metadata": {},
     "output_type": "execute_result"
    }
   ],
   "source": [
    "df_BPSTAT.columns"
   ]
  },
  {
   "cell_type": "code",
   "execution_count": 11,
   "metadata": {},
   "outputs": [
    {
     "data": {
      "text/plain": [
       "100"
      ]
     },
     "execution_count": 11,
     "metadata": {},
     "output_type": "execute_result"
    }
   ],
   "source": [
    "#testar resultado\n",
    "df_BPSTAT.head()\n",
    "series_distinct=pd.unique(df_BPSTAT['Serie'])\n",
    "len(series_distinct)"
   ]
  },
  {
   "cell_type": "markdown",
   "metadata": {},
   "source": [
    "## Código múltiplas séries (retirar todas as séries por blocos (máximo de 100 por bloco)"
   ]
  },
  {
   "cell_type": "code",
   "execution_count": 12,
   "metadata": {},
   "outputs": [],
   "source": [
    "import pandas as pd\n",
    "\n",
    "series_1=\"12527177,12527593,\t12528981,\t12528982,\t12528983,\t12528984,\t12528985,\t12529009,\t12529013,\t12529030,\t12529042,\t12529046,\t12529050,\t12556757,\t12529005,\t12528973,\t12525804,\t12526144,\t12528652,\t12529089,\t12526148,\t12526183,\t12530228,\t12530235,\t12530246,\t12526179,\t12530080,\t12530201,\t12526159,\t12530130,\t12530140,\t12530181,\t12530173,\t12530165,\t12529974,\t12529981,\t12530123,\t12530066,\t12530098,\t12530077,\t12530091,\t12529959,\t12530062,\t12530044,\t12530029,\t12528986,\t12528987,\t12528988,\t12529073,\t12529074,\t12529076,\t12529077,\t12529078,\t12529079,\t12529080,\t12529081,\t12529082,\t12529083,\t12529084,\t12529085,\t12529086,\t12529087,\t12529088,\t12529090,\t12529091,\t12529092,\t12529093,\t12529094,\t12529095,\t12529096,\t12528830,\t12529097,\t12529098,\t12556550,\t12556568,\t12556586,\t12556616,\t12556633,\t12556673,\t12556723,\t12557378,\t12557382,\t12556761,\t12556758,\t12556759,\t12556760,\t12557379,\t12557380,\t12557381,\t12556699,\t12557793,\t12557795,\t12557805,\t12556691,\t12557777,\t12557782,\t12556684,\t12556647,\t12556631,\t12556636\"\n",
    "series_2=\"12556667,12556675,\t12556659,\t12556662,\t12556646,\t12556622,\t12556580,\t12556613,\t12556579,\t12556600,\t12556597,\t12556571,\t12556564,\t12556547,\t12528752,\t12528753,\t12528755,\t12528756,\t12528757,\t12528758,\t12528759,\t12528760,\t12528761,\t12528762,\t12528763,\t12528764,\t12528765,\t12528766,\t12528767,\t12528769,\t12528770,\t12528771,\t12528772,\t12528773,\t12528774,\t12528775,\t12526109,\t12528776,\t12528777,\t12528741,\t12528742,\t12528743,\t12528642,\t12528768,\t12529352,\t12530219,\t12530224,\t12530232,\t12530240,\t12530205,\t12530210,\t12530198,\t12530144,\t12530128,\t12530135,\t12530184,\t12530176,\t12530168,\t12530160,\t12530153,\t12530120,\t12530011,\t12530096,\t12530079,\t12530088,\t12530083,\t12530058,\t12530046,\t12530031,\t12556690,\t12557787,\t12557796,\t12557802,\t12556692,\t12557775,\t12557784,\t12556685,\t12556649,\t12556630,\t12556638,\t12556677,\t12556665,\t12556660,\t12556655,\t12556651,\t12556624,\t12556578,\t12556608,\t12556584,\t12556601,\t12556593,\t12556590,\t12556565,\t12556548,\t12556697,\t12557791,\t12557798,\t12557803,\t12556694,\t12557776\"\n",
    "series_3=\"12557789,12556687,\t12556644,\t12556634,\t12556641,\t12556679,\t12556670,\t12556671,\t12556656,\t12556653,\t12556625,\t12556589,\t12556610,\t12556585,\t12556602,\t12556599,\t12556591,\t12556569,\t12556551\"\n",
    "\n",
    "series=[series_1,series_2,series_3]"
   ]
  },
  {
   "cell_type": "code",
   "execution_count": 13,
   "metadata": {},
   "outputs": [],
   "source": [
    "k=0\n",
    "for i in series:\n",
    "    k=k+1\n",
    "    i=i.replace(\"\t\",\"\")\n",
    "    \n",
    "    # importar a Base de Dados do BPSTAT\n",
    "    url=f'https://bpstat.bportugal.pt/api/observations/csv/?series_ids={i}&language=PT'\n",
    "    df_BPSTAT = pd.read_csv(url,header=0, index_col=\"Período de referência\",  encoding=\"ISO-8859-1\", sep=';')  \n",
    "    df_BPSTAT.index = pd.to_datetime(df_BPSTAT.index, format='%Y-%m')\n",
    "    df_BPSTAT.index.names = ['Periodo']\n",
    "    \n",
    "    # filtrar pelas colunas que desejo e renomear\n",
    "    df_BPSTAT['Serie']=df_BPSTAT['# Série']\n",
    "    df_BPSTAT=df_BPSTAT[['Serie','Valor']]\n",
    "    \n",
    "    #colocar tudo em um único dataframe\n",
    "    if k==1:\n",
    "        df_final=df_BPSTAT\n",
    "    else:\n",
    "        df_final=df_final.append(df_BPSTAT)"
   ]
  },
  {
   "cell_type": "code",
   "execution_count": 14,
   "metadata": {},
   "outputs": [
    {
     "data": {
      "text/plain": [
       "219"
      ]
     },
     "execution_count": 14,
     "metadata": {},
     "output_type": "execute_result"
    }
   ],
   "source": [
    "#testar resultado\n",
    "df_final.head()\n",
    "series_distinct=pd.unique(df_final['Serie'])\n",
    "len(series_distinct)"
   ]
  },
  {
   "cell_type": "markdown",
   "metadata": {},
   "source": [
    "## Código PowerBI  (igual ao anterior - código junto para importar)  "
   ]
  },
  {
   "cell_type": "code",
   "execution_count": 15,
   "metadata": {},
   "outputs": [],
   "source": [
    "import pandas as pd\n",
    "\n",
    "series_1=\"12527177,12527593,\t12528981,\t12528982,\t12528983,\t12528984,\t12528985,\t12529009,\t12529013,\t12529030,\t12529042,\t12529046,\t12529050,\t12556757,\t12529005,\t12528973,\t12525804,\t12526144,\t12528652,\t12529089,\t12526148,\t12526183,\t12530228,\t12530235,\t12530246,\t12526179,\t12530080,\t12530201,\t12526159,\t12530130,\t12530140,\t12530181,\t12530173,\t12530165,\t12529974,\t12529981,\t12530123,\t12530066,\t12530098,\t12530077,\t12530091,\t12529959,\t12530062,\t12530044,\t12530029,\t12528986,\t12528987,\t12528988,\t12529073,\t12529074,\t12529076,\t12529077,\t12529078,\t12529079,\t12529080,\t12529081,\t12529082,\t12529083,\t12529084,\t12529085,\t12529086,\t12529087,\t12529088,\t12529090,\t12529091,\t12529092,\t12529093,\t12529094,\t12529095,\t12529096,\t12528830,\t12529097,\t12529098,\t12556550,\t12556568,\t12556586,\t12556616,\t12556633,\t12556673,\t12556723,\t12557378,\t12557382,\t12556761,\t12556758,\t12556759,\t12556760,\t12557379,\t12557380,\t12557381,\t12556699,\t12557793,\t12557795,\t12557805,\t12556691,\t12557777,\t12557782,\t12556684,\t12556647,\t12556631,\t12556636\"\n",
    "series_2=\"12556667,12556675,\t12556659,\t12556662,\t12556646,\t12556622,\t12556580,\t12556613,\t12556579,\t12556600,\t12556597,\t12556571,\t12556564,\t12556547,\t12528752,\t12528753,\t12528755,\t12528756,\t12528757,\t12528758,\t12528759,\t12528760,\t12528761,\t12528762,\t12528763,\t12528764,\t12528765,\t12528766,\t12528767,\t12528769,\t12528770,\t12528771,\t12528772,\t12528773,\t12528774,\t12528775,\t12526109,\t12528776,\t12528777,\t12528741,\t12528742,\t12528743,\t12528642,\t12528768,\t12529352,\t12530219,\t12530224,\t12530232,\t12530240,\t12530205,\t12530210,\t12530198,\t12530144,\t12530128,\t12530135,\t12530184,\t12530176,\t12530168,\t12530160,\t12530153,\t12530120,\t12530011,\t12530096,\t12530079,\t12530088,\t12530083,\t12530058,\t12530046,\t12530031,\t12556690,\t12557787,\t12557796,\t12557802,\t12556692,\t12557775,\t12557784,\t12556685,\t12556649,\t12556630,\t12556638,\t12556677,\t12556665,\t12556660,\t12556655,\t12556651,\t12556624,\t12556578,\t12556608,\t12556584,\t12556601,\t12556593,\t12556590,\t12556565,\t12556548,\t12556697,\t12557791,\t12557798,\t12557803,\t12556694,\t12557776\"\n",
    "series_3=\"12557789,12556687,\t12556644,\t12556634,\t12556641,\t12556679,\t12556670,\t12556671,\t12556656,\t12556653,\t12556625,\t12556589,\t12556610,\t12556585,\t12556602,\t12556599,\t12556591,\t12556569,\t12556551\"\n",
    "\n",
    "series=[series_1,series_2,series_3]\n",
    "\n",
    "k=0\n",
    "for i in series:\n",
    "    k=k+1\n",
    "    i=i.replace(\"\t\",\"\")\n",
    "    \n",
    "    # importar a Base de Dados do BPSTAT\n",
    "    url=f'https://bpstat.bportugal.pt/api/observations/csv/?series_ids={i}&language=PT'\n",
    "    df_BPSTAT = pd.read_csv(url,header=0, index_col=\"Período de referência\",  encoding=\"ISO-8859-1\", sep=';')  \n",
    "    df_BPSTAT.index = pd.to_datetime(df_BPSTAT.index, format='%Y-%m')\n",
    "    df_BPSTAT.index.names = ['Periodo']\n",
    "    \n",
    "    # filtrar pelas colunas que desejo e renomear\n",
    "    df_BPSTAT['Serie']=df_BPSTAT['# Série']\n",
    "    df_BPSTAT=df_BPSTAT[['Serie','Valor']]\n",
    "    \n",
    "    #colocar tudo em um único dataframe\n",
    "    if k==1:\n",
    "        df_final=df_BPSTAT\n",
    "    else:\n",
    "        df_final=df_final.append(df_BPSTAT)\n",
    "\n",
    "df_final= df_final.reset_index()\n"
   ]
  },
  {
   "cell_type": "code",
   "execution_count": 16,
   "metadata": {},
   "outputs": [
    {
     "data": {
      "text/html": [
       "<div>\n",
       "<style scoped>\n",
       "    .dataframe tbody tr th:only-of-type {\n",
       "        vertical-align: middle;\n",
       "    }\n",
       "\n",
       "    .dataframe tbody tr th {\n",
       "        vertical-align: top;\n",
       "    }\n",
       "\n",
       "    .dataframe thead th {\n",
       "        text-align: right;\n",
       "    }\n",
       "</style>\n",
       "<table border=\"1\" class=\"dataframe\">\n",
       "  <thead>\n",
       "    <tr style=\"text-align: right;\">\n",
       "      <th></th>\n",
       "      <th>Periodo</th>\n",
       "      <th>Serie</th>\n",
       "      <th>Valor</th>\n",
       "    </tr>\n",
       "  </thead>\n",
       "  <tbody>\n",
       "    <tr>\n",
       "      <th>0</th>\n",
       "      <td>2009-01-31</td>\n",
       "      <td>12525804</td>\n",
       "      <td>27517.5</td>\n",
       "    </tr>\n",
       "    <tr>\n",
       "      <th>1</th>\n",
       "      <td>2009-02-28</td>\n",
       "      <td>12525804</td>\n",
       "      <td>27810.3</td>\n",
       "    </tr>\n",
       "    <tr>\n",
       "      <th>2</th>\n",
       "      <td>2009-03-31</td>\n",
       "      <td>12525804</td>\n",
       "      <td>27824.0</td>\n",
       "    </tr>\n",
       "    <tr>\n",
       "      <th>3</th>\n",
       "      <td>2009-04-30</td>\n",
       "      <td>12525804</td>\n",
       "      <td>27824.4</td>\n",
       "    </tr>\n",
       "    <tr>\n",
       "      <th>4</th>\n",
       "      <td>2009-05-31</td>\n",
       "      <td>12525804</td>\n",
       "      <td>28031.1</td>\n",
       "    </tr>\n",
       "  </tbody>\n",
       "</table>\n",
       "</div>"
      ],
      "text/plain": [
       "     Periodo     Serie    Valor\n",
       "0 2009-01-31  12525804  27517.5\n",
       "1 2009-02-28  12525804  27810.3\n",
       "2 2009-03-31  12525804  27824.0\n",
       "3 2009-04-30  12525804  27824.4\n",
       "4 2009-05-31  12525804  28031.1"
      ]
     },
     "execution_count": 16,
     "metadata": {},
     "output_type": "execute_result"
    }
   ],
   "source": [
    "df_final.head()"
   ]
  },
  {
   "cell_type": "code",
   "execution_count": null,
   "metadata": {},
   "outputs": [],
   "source": []
  }
 ],
 "metadata": {
  "kernelspec": {
   "display_name": "Python 3",
   "language": "python",
   "name": "python3"
  },
  "language_info": {
   "codemirror_mode": {
    "name": "ipython",
    "version": 3
   },
   "file_extension": ".py",
   "mimetype": "text/x-python",
   "name": "python",
   "nbconvert_exporter": "python",
   "pygments_lexer": "ipython3",
   "version": "3.7.3"
  },
  "toc": {
   "base_numbering": 1,
   "nav_menu": {},
   "number_sections": true,
   "sideBar": true,
   "skip_h1_title": false,
   "title_cell": "Table of Contents",
   "title_sidebar": "Contents",
   "toc_cell": false,
   "toc_position": {},
   "toc_section_display": true,
   "toc_window_display": true
  }
 },
 "nbformat": 4,
 "nbformat_minor": 2
}
